{
 "cells": [
  {
   "cell_type": "code",
   "execution_count": null,
   "metadata": {},
   "outputs": [],
   "source": [
    "import pandas as pd\n",
    "import matplotlib.pyplot as plt\n",
    "import seaborn as sns\n",
    "from IPython.display import display\n",
    "from collections import Counter\n",
    "import warnings\n",
    "warnings.filterwarnings(\"ignore\")\n",
    "import helper_funcs\n",
    "\n",
    "import pandas as pd\n",
    "import matplotlib.pyplot as plt\n",
    "import seaborn as sns\n",
    "from IPython.display import display\n",
    "from collections import Counter\n",
    "import pickle\n",
    "import numpy as np"
   ]
  },
  {
   "cell_type": "code",
   "execution_count": null,
   "metadata": {},
   "outputs": [],
   "source": [
    "location = \"Washington D.C.\"\n",
    "poi_names = ['kindergarten', 'school']\n",
    "only_active = False\n",
    "input_stages_file = ''\n",
    "output_journeys_file = 'journeys_w_moc.csv'\n",
    "moc_stops_file = \"stop_w_moc.csv\""
   ]
  },
  {
   "cell_type": "markdown",
   "metadata": {},
   "source": [
    "# Generate Journeys File\n",
    "This section of code generates the journeys file with the Mobility of Care classification"
   ]
  },
  {
   "cell_type": "code",
   "execution_count": null,
   "metadata": {},
   "outputs": [],
   "source": [
    "if moc_stops_file == '': \n",
    "    # Takes approximately 2 minutes\n",
    "    stops = helper_funcs.find_moc_stops(location, poi_names)\n",
    "    stops.to_csv(moc_stops_file, index=False)\n",
    "else: \n",
    "    stops = pd.read_csv(moc_stops_file)"
   ]
  },
  {
   "cell_type": "code",
   "execution_count": null,
   "metadata": {},
   "outputs": [],
   "source": [
    "if input_stages_file == '': \n",
    "    stages = helper_funcs.gen_fake_data()\n",
    "else: \n",
    "    stages = pd.read_csv(input_stages_file)"
   ]
  },
  {
   "cell_type": "code",
   "execution_count": null,
   "metadata": {},
   "outputs": [],
   "source": [
    "if only_active: \n",
    "    # Limit to only cards that have taken at least two journeys on the system\n",
    "    stages = stages.loc[stages['CARD'].isin(helper_funcs.get_list_active_cards(stages, njnys = 2))]"
   ]
  },
  {
   "cell_type": "code",
   "execution_count": null,
   "metadata": {},
   "outputs": [],
   "source": [
    "stages = helper_funcs.prep_stages_file(stages, stops)\n",
    "journeys = helper_funcs.create_journeys_file(stages, stops, save_output = output_journeys_file)"
   ]
  },
  {
   "cell_type": "markdown",
   "metadata": {},
   "source": [
    "# Analysis of Journeys File\n",
    "This section of code outputs a set of static figures as well as an interactive tool to examine Mobility of Care Travel Patterns"
   ]
  },
  {
   "cell_type": "code",
   "execution_count": null,
   "metadata": {},
   "outputs": [],
   "source": [
    "journeys = pd.read_csv(output_journeys_file)"
   ]
  },
  {
   "cell_type": "code",
   "execution_count": null,
   "metadata": {},
   "outputs": [],
   "source": [
    "# Interactive Tool\n",
    "import sweetviz as sv\n",
    "report = sv.analyze(journeys)\n",
    "report.show_html(\"sweetviz_report.html\")"
   ]
  },
  {
   "cell_type": "code",
   "execution_count": null,
   "metadata": {},
   "outputs": [],
   "source": [
    "# MoC Travel Time\n",
    "plt.figure(figsize=(10, 6))\n",
    "sns.kdeplot(data=journeys[journeys['moc'] == 1], x='start_hour', label='MoC', fill=True)\n",
    "sns.kdeplot(data=journeys[journeys['moc'] == 0], x='start_hour', label='Non-MoC', fill=True)\n",
    "plt.xlabel('Start Hour of the Day')\n",
    "plt.ylabel('Density')\n",
    "plt.title('Travel Times by Mobility of Care Status')\n",
    "plt.legend()\n",
    "plt.show()"
   ]
  },
  {
   "cell_type": "code",
   "execution_count": null,
   "metadata": {},
   "outputs": [],
   "source": [
    "# MoC Transfer Time\n",
    "plt.figure(figsize=(10, 6))\n",
    "sns.kdeplot(data=journeys[journeys['moc'] == 1], x='transfer_time', label='MoC', fill=True)\n",
    "sns.kdeplot(data=journeys[journeys['moc'] == 0], x='transfer_time', label='Non-MoC', fill=True)\n",
    "plt.xlim(0, 100)\n",
    "plt.xlabel('Transfer Time')\n",
    "plt.ylabel('Density')\n",
    "plt.title('Transfer Times by Mobility of Care Status')\n",
    "plt.legend()\n",
    "plt.show()"
   ]
  },
  {
   "cell_type": "code",
   "execution_count": null,
   "metadata": {},
   "outputs": [],
   "source": [
    "# MoC Transfer Time\n",
    "plt.figure(figsize=(10, 6))\n",
    "sns.kdeplot(data=journeys[journeys['moc'] == 1], x='trip_time', label='MoC', fill=True)\n",
    "sns.kdeplot(data=journeys[journeys['moc'] == 0], x='trip_time', label='Non-MoC', fill=True)\n",
    "plt.xlim(0, 100)\n",
    "plt.xlabel('Overall Trip Time')\n",
    "plt.ylabel('Density')\n",
    "plt.title('Overall Trip Times by Mobility of Care Status')\n",
    "plt.legend()\n",
    "plt.show()"
   ]
  },
  {
   "cell_type": "code",
   "execution_count": null,
   "metadata": {},
   "outputs": [],
   "source": [
    "# MoC Transfer Time\n",
    "plt.figure(figsize=(10, 6))\n",
    "sns.kdeplot(data=journeys[journeys['moc'] == 1], x='distance', label='MoC', fill=True)\n",
    "sns.kdeplot(data=journeys[journeys['moc'] == 0], x='distance', label='Non-MoC', fill=True)\n",
    "plt.xlabel('Distance')\n",
    "plt.ylabel('Density')\n",
    "plt.title('Distance by Mobility of Care Status')\n",
    "plt.legend()\n",
    "plt.show()"
   ]
  },
  {
   "cell_type": "code",
   "execution_count": null,
   "metadata": {},
   "outputs": [],
   "source": [
    "plt.figure(figsize=(10, 6))\n",
    "\n",
    "# Plot for MoC trips\n",
    "sns.kdeplot(data=journeys[journeys['moc'] == 1], x='start_hour', label='MoC', fill=True)\n",
    "\n",
    "# Plot for non-MoC trips\n",
    "sns.kdeplot(data=journeys[journeys['moc'] == 0], x='start_hour', label='Non-MoC', fill=True)\n",
    "\n",
    "# Adding labels and title\n",
    "plt.xlabel('Start Hour of the Day')\n",
    "plt.ylabel('Density')\n",
    "plt.title('Travel Times by Mobility of Care Status')\n",
    "plt.legend()\n",
    "\n",
    "# Show the plot\n",
    "plt.show()"
   ]
  },
  {
   "cell_type": "code",
   "execution_count": null,
   "metadata": {},
   "outputs": [],
   "source": [
    "# Display the top MoC Stops\n",
    "helper_funcs.find_top_moc_stops(journeys)"
   ]
  }
 ],
 "metadata": {
  "kernelspec": {
   "display_name": "Python 3",
   "language": "python",
   "name": "python3"
  },
  "language_info": {
   "codemirror_mode": {
    "name": "ipython",
    "version": 3
   },
   "file_extension": ".py",
   "mimetype": "text/x-python",
   "name": "python",
   "nbconvert_exporter": "python",
   "pygments_lexer": "ipython3",
   "version": "3.10.6"
  }
 },
 "nbformat": 4,
 "nbformat_minor": 2
}
